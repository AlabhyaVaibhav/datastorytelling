{
 "metadata": {
  "name": ""
 },
 "nbformat": 3,
 "nbformat_minor": 0,
 "worksheets": [
  {
   "cells": [
    {
     "cell_type": "heading",
     "level": 2,
     "metadata": {},
     "source": [
      "Markov Chains and art"
     ]
    },
    {
     "cell_type": "markdown",
     "metadata": {},
     "source": [
      "The [National Gallery of Art](http://www.nga.gov/content/ngaweb.html) puts thumbnails and descriptions of the works in their collection online. One could, theoretically, crawl these descriptions and process them."
     ]
    },
    {
     "cell_type": "code",
     "collapsed": false,
     "input": [
      "import pickle\n",
      "import random\n",
      "\n",
      "art = pickle.load(open('art.pickle'))"
     ],
     "language": "python",
     "metadata": {},
     "outputs": [],
     "prompt_number": 2
    },
    {
     "cell_type": "markdown",
     "metadata": {},
     "source": [
      "The thumbnails are really interesting. Each one looks like this: <img src=\"http://media.nga.gov/public/supplemental/objects/1/0/7/7/6/4/107764-crop-0-90x90.jpg\" />\n",
      "\n",
      "...and you can play with them to end up with images like this one, which shows the average color of each thumbnail (where each square represents a unique work of art):\n",
      "\n",
      "<img src=\"http://25.media.tumblr.com/c35ed306e3af0ca4b9aef0beff92b8a2/tumblr_mkiepmL5ot1qz7bx4o1_1280.png\" width=\"300\" />"
     ]
    },
    {
     "cell_type": "markdown",
     "metadata": {},
     "source": [
      "...and if you look at the descriptions, you might end up with a data structure like this:"
     ]
    },
    {
     "cell_type": "code",
     "collapsed": false,
     "input": [
      "print art[0]"
     ],
     "language": "python",
     "metadata": {},
     "outputs": [
      {
       "output_type": "stream",
       "stream": "stdout",
       "text": [
        "{'name': 'Saint Paul', 'artist': 'Bernardo Daddi', 'material': 'tempera on panel', 'year': '1333', 'thumbnail': 'http://www.nga.gov:80/thumb-l/a000c6/a000c643.jpg', 'desc': 'The narrow shape and large size of this panel suggest it was meant to hang against a colossal pillar in a church. The original frame utilizes decorative motifs similar to those in the borders of Gothic illuminated manuscripts.\\n Saint Paul holds a book, recalling the Epistles he wrote. The sword he displays has several meanings: his early career as a Roman soldier; his position as defender of the Christian faith; and the instrument of his martyrdom by beheading. The great dignity of his erect figure and the monumental effect of the drapery correspond to his stern, direct gaze. His imposing presence implies that the painter Bernardo Daddi may have been a pupil of \\n A sweeter, gentler mood emanates from the small figures representing the donors who commissioned this painting. Although depictions of donors are not unusual in Gothic art, it is rare to find so many husbands and wives shown kneeling together. The couples are separated, just as men and women were while worshiping in church during the Middle Ages.\\n '}\n"
       ]
      }
     ],
     "prompt_number": 26
    },
    {
     "cell_type": "markdown",
     "metadata": {},
     "source": [
      "The best kind of probabilistic mischief we can get up to with data like this is a structure called a Markov Chain."
     ]
    },
    {
     "cell_type": "code",
     "collapsed": false,
     "input": [
      "# only run this code if we haven't run it already (to save time)\n",
      "try:\n",
      "    trigrams = pickle.load(open('trigrams.pickle'))\n",
      "except IOError:\n",
      "    all_art = pickle.load(open('art.pickle'))\n",
      "\n",
      "    text_data = ''\n",
      "    for art in all_art: # deconstruct the descriptions of the works of art\n",
      "        if art.get('desc',''):\n",
      "            text_data += art['desc'] # add all descriptions of art into one variable\n",
      "\n",
      "        text = [w.lower() for w in text_data.split()] #break it apart\n",
      "        trigrams = []\n",
      "        for i in range(0, len(text)-2):\n",
      "            trigrams.append((text[i], text[i+1], text[i+2])) # build all trigrams\n",
      "\n",
      "random_seed = ' '.join(random.choice(trigrams))\n",
      "print random_seed\n"
     ],
     "language": "python",
     "metadata": {},
     "outputs": [
      {
       "output_type": "stream",
       "stream": "stdout",
       "text": [
        "depiction, this floral\n"
       ]
      }
     ],
     "prompt_number": 3
    },
    {
     "cell_type": "code",
     "collapsed": false,
     "input": [
      "# build lookup table\n",
      "lookup_table = {}\n",
      "for w1, w2, w3 in trigrams:\n",
      "    lookup_table.setdefault((w1, w2), []).append(w3)"
     ],
     "language": "python",
     "metadata": {},
     "outputs": [],
     "prompt_number": 4
    },
    {
     "cell_type": "code",
     "collapsed": false,
     "input": [
      "for j in range(20):\n",
      "    #input_text = \"against this\"\n",
      "    random_seed = ' '.join(random.choice(trigrams))\n",
      "    input_text = random_seed # we need some text to start with!\n",
      "    max_len = 40 # [n] words, please\n",
      "    seed_word, next_word = input_text.split()[-2:]\n",
      "        \n",
      "    fake_art = []\n",
      "    for i in range(max_len): # for each word we need to generate...\n",
      "        fake_art.append(next_word) # append the next word\n",
      "        try: # pick a random choice from the lookup table\n",
      "            seed_word, next_word = next_word, random.choice(lookup_table[(seed_word, next_word)])\n",
      "        except KeyError:\n",
      "            seed_word, next_word = random.choice(lookup_table.keys()) # if there isn't anything\n",
      "            # ... pick something random\n",
      "        \n",
      "    fake_art.append(next_word)\n",
      "    print  \"%s: %s\" % (j, ' '.join(fake_art))\n"
     ],
     "language": "python",
     "metadata": {},
     "outputs": [
      {
       "output_type": "stream",
       "stream": "stdout",
       "text": [
        "39: bean sieve was made from paper pulp combined with baskets, vases, birds, or butterflies. the overall design of copper teakettles was derived from a dark background and draped over his right hand as the center of the italian renaissance. the public\n",
        "39: executed in the early part of dowry exchanges and displayed a brilliant glossy emerald green. originally, most of the early thirteenth-century francis of assisi and his patrons, the medici (text by margaret doyle, <strong>notes</strong> <a name=\"2\"></a> <a name=\"3\"></a> <a name=\"4\"></a> <a\n",
        "39: cheaply. although stoneware will hold liquid without being glazed, in most cases it was a painter he specialized in small-scale luxury furniture, bernard was exceptionally versatile in technique. he used to produce his image. this technique, which he began to flourish.\n",
        "39: that the paint surface has worn considerably, but the work could be described as one philadelphia gentleman joked, eakins &ldquo;would bring out all the painting created a variety of colors to reproduce the grayness of the earliest samplers were actually collections\n",
        "39: darker, more muted shades of green, blue, yellow, and red, seemingly freshly picked. c&eacute;zanne felt especially drawn to the hero's triumphant salvation, a man warms his hands bound behind him in america, trumbull adapted his composition on earlier works in the\n",
        "39: also served as architectural advisor to pope nicholas v. this bronze is probably one of the church of the marian antiphon, historians refer to the royal academy of design and embellished with curved points. a desire for the panel's use as\n",
        "39: of contrasting tone: a dark foreground, through the soft dreaminess recently introduced by german immigrants in the remote franche-comt&eacute; region. a proponent of realism, he challenged traditional ideas about art largely by watching other english&ndash;trained painters who reveled in depicting winter.\n",
        "39: 1891, he acquired while in italy for nine years in italy, rosso&rsquo;s personal, introverted style did not expand the small terracotta into a pad foot. the folding fan was used for opaque colors. these practices effectively blocked the full ability of\n",
        "39: and ceiling, the parade of dark reddish brown, still visible in the early seventeenth century. dutch artists preferred monochromatic tones for their own distinct styles. although the identity of the slat often distinguishes the region in which all sides without leaving\n",
        "39: veronica's veil had entered the haarlem guild in 1634, probably after studying under <em>the seine</em> <em>plum brandy</em> although this jar retains a lingering suggestion of a \"visiting dress,\" dated 1883, is made from fine, dense gray-blue or buff clay that is\n",
        "39: made about seventy years old and remained there until january 1878. argenteuil proved to be cast. the minimal chasing and polishing that was enlarged by workshop assistants. whether the present gilt surface (not original) replaced original gilding or was applied to\n",
        "39: that time. (text by kimberly jones, <strong>notes</strong> <a name=\"2\"></a> <a name=\"3\"></a> <a name=\"4\"></a> men's clothing of the coat is fastened at the far left, the shape of the little galleries of the eighteenth century are extremely rare before about 1425. this\n",
        "39: also spoke german. ironically, the french chemist michel-eug&egrave;ne chevreul and charles ix. in this imposing secretary is a hollow framework built up his cloak to his love of hunting offered frequent opportunities. here, tiny figures praying at the royal academy in\n",
        "39: leaving cephalus to wander the earth and orchard and softly blending strokes in the form of embroidery, which incorporated a great stimulus for his technical methods and personal referent when relating the use of light, however, shows the very men who\n",
        "39: these laws. seurat developed his own rejection of london's royal academy, england's only major avenue for exhibiting or selling such narrative pictures. instead, he achieved fame for the marble-hard perfection and chilly hauteur of his work. most of his forms, the\n",
        "39: purely for the 1889 international exposition marking the end of the painter and art during the second president was in his careful depiction of light under his immediate impression of a carp, its grotesque open-jawed head oriented downward and its harmonized\n",
        "39: d'eau, shaped as a focus on sculpture; the thin stream of slip to achieve the concentric stripe paintings of aristocrats as opposed to literary subjects. much of their family wash to this tapestry, often described as pomegranate-shaped. (text by stephen little,\n",
        "39: a black asphaltum varnish that imitated lacquer. the decoration and quilting are perfectly balanced to create a compact group in new mexico artists. the virgin, near collapse under the title &quot;improvisations&quot; refers to his popular one-work show. how copley had persuaded\n",
        "39: changed soon after the civil war, most american dolls were made famous by such backwoods heroes as daniel boone and davy crockett. this patchbox cover was probably intended to be exhibited in 1918 at the stiegel furnace. the flask shown here\n",
        "39: born in 1884 to an increase in population, housing construction, and manufacturing. the town\u2019s largest and most prominent. the two works, and in 1905 he exhibited alongside the fauves at the center, mary is wed to joseph. he was expelled from\n"
       ]
      }
     ],
     "prompt_number": 10
    },
    {
     "cell_type": "code",
     "collapsed": false,
     "input": [],
     "language": "python",
     "metadata": {},
     "outputs": [],
     "prompt_number": 8
    },
    {
     "cell_type": "code",
     "collapsed": false,
     "input": [],
     "language": "python",
     "metadata": {},
     "outputs": []
    }
   ],
   "metadata": {}
  }
 ]
}