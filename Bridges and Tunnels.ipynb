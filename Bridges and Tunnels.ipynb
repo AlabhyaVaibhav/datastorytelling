{
 "metadata": {
  "name": ""
 },
 "nbformat": 3,
 "nbformat_minor": 0,
 "worksheets": [
  {
   "cells": [
    {
     "cell_type": "heading",
     "level": 2,
     "metadata": {},
     "source": [
      "Welcome to Data Storytelling! MTA Bridges and Tunnels Analysis"
     ]
    },
    {
     "cell_type": "markdown",
     "metadata": {},
     "source": [
      "This project is an introduction to basic data analysis using iPython notebook.\n",
      "\n",
      "The MTA makes [toll plaza collection data](http://mta.info/developers/data/bandt/trafficdata.html) available on a weekly basis."
     ]
    },
    {
     "cell_type": "code",
     "collapsed": false,
     "input": [
      "import csv\n",
      "\n",
      "verrazano_data = []\n",
      "with open('verrazano.csv','rb') as csvfile:\n",
      "    vreader = csv.reader(csvfile)\n",
      "    for row in vreader:\n",
      "        verrazano_data.append(row)"
     ],
     "language": "python",
     "metadata": {},
     "outputs": [],
     "prompt_number": 2
    },
    {
     "cell_type": "markdown",
     "metadata": {},
     "source": [
      "Now let's take a look at a random row from the dataset (and you can re-run that cell a few times to see different samples).\n",
      "\n",
      "The data is in CSV format with each row having: date, # cash payments, # electronic payments"
     ]
    },
    {
     "cell_type": "code",
     "collapsed": false,
     "input": [
      "import random\n",
      "\n",
      "print random.choice(verrazano_data)"
     ],
     "language": "python",
     "metadata": {},
     "outputs": [
      {
       "output_type": "stream",
       "stream": "stdout",
       "text": [
        "['07/07/2012', '20866', '69486']\n"
       ]
      }
     ],
     "prompt_number": 3
    },
    {
     "cell_type": "markdown",
     "metadata": {},
     "source": [
      "What questions might we ask now?\n",
      "\n",
      "How many people, on average, pay cash at the Verrazano bridge each day?"
     ]
    },
    {
     "cell_type": "code",
     "collapsed": false,
     "input": [
      "cash_payments = [int(f[1]) for f in verrazano_data] # create a list that is a subset of our data including *only* cash payments\n",
      "numpy.mean(cash_payments)"
     ],
     "language": "python",
     "metadata": {},
     "outputs": [
      {
       "metadata": {},
       "output_type": "pyout",
       "prompt_number": 4,
       "text": [
        "15573.824221159777"
       ]
      }
     ],
     "prompt_number": 4
    },
    {
     "cell_type": "markdown",
     "metadata": {},
     "source": [
      "...and how many people pay electronically?"
     ]
    },
    {
     "cell_type": "code",
     "collapsed": false,
     "input": [
      "etc_payments = [int(f[2]) for f in verrazano_data]\n",
      "numpy.mean(etc_payments)"
     ],
     "language": "python",
     "metadata": {},
     "outputs": [
      {
       "metadata": {},
       "output_type": "pyout",
       "prompt_number": 5,
       "text": [
        "76042.147247069704"
       ]
      }
     ],
     "prompt_number": 5
    },
    {
     "cell_type": "code",
     "collapsed": false,
     "input": [],
     "language": "python",
     "metadata": {},
     "outputs": [],
     "prompt_number": 5
    }
   ],
   "metadata": {}
  }
 ]
}